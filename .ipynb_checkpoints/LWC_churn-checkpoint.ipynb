{
 "cells": [
  {
   "cell_type": "code",
   "execution_count": null,
   "id": "b670305c",
   "metadata": {},
   "outputs": [],
   "source": [
    "import matplotlib.pyplot as plt\n",
    "import pandas as pd\n",
    "import numpy as np"
   ]
  },
  {
   "cell_type": "code",
   "execution_count": null,
   "id": "b1c79fb4",
   "metadata": {},
   "outputs": [],
   "source": [
    "df = pd.read_csv (r'LWC_CHURN.csv')"
   ]
  },
  {
   "cell_type": "code",
   "execution_count": null,
   "id": "282f4aaa",
   "metadata": {},
   "outputs": [],
   "source": [
    "df.info()"
   ]
  },
  {
   "cell_type": "code",
   "execution_count": null,
   "id": "5744d132",
   "metadata": {},
   "outputs": [],
   "source": [
    "df_string=df.select_dtypes(include=np.object)\n",
    "df_string.info()\n",
    "df_string.describe()"
   ]
  },
  {
   "cell_type": "code",
   "execution_count": null,
   "id": "a6debdc0",
   "metadata": {},
   "outputs": [],
   "source": [
    "# Making dummy variables for categorical data with more inputs.  \n",
    "data_dummy = pd.get_dummies(df[['SA_CITY','SA_PROV', 'age_band', 'MC_SGMNT_FACTOR','SERV_PROV','COID','FSALDU']], drop_first=True)\n",
    "# Merging (concatenate) original data frame with 'dummy' dataframe.\n",
    "df = pd.concat([df,data_dummy], axis=1)\n",
    "df.head()\n",
    "# Dropping attributes for which we made dummy variables.  Let's also drop the Date column.\n",
    "df = df.drop(['SA_CITY','SA_PROV', 'age_band', 'MC_SGMNT_FACTOR','SERV_PROV','COID','FSALDU'], axis=1)\n"
   ]
  },
  {
   "cell_type": "code",
   "execution_count": null,
   "id": "fb2fb097",
   "metadata": {},
   "outputs": [],
   "source": [
    "# from sklearn.preprocessing import OneHotEncoder\n",
    "\n",
    "# enc=OneHotEncoder(handle_unknown='ignore',sparse=False)\n",
    "# enc=enc.fit(df[['SA_CITY','SA_PROV', 'age_band', 'MC_SGMNT_FACTOR','SERV_PROV','COID','FSALDU']])\n",
    "# enc.transform(df[['SA_CITY','SA_PROV', 'age_band', 'MC_SGMNT_FACTOR','SERV_PROV','COID','FSALDU']])\n",
    "# _ohe_array=enc.transform(df[['SA_CITY','SA_PROV', 'age_band', 'MC_SGMNT_FACTOR','SERV_PROV','COID','FSALDU']])\n",
    "# _ohe_name=enc.get_feature_names()\n",
    "# for i in range(_ohe_array.shape[1]):\n",
    "#      df[_ohe_name[i]]=_ohe_array[:,i]"
   ]
  },
  {
   "cell_type": "code",
   "execution_count": null,
   "id": "88e8363e",
   "metadata": {},
   "outputs": [],
   "source": [
    "from sklearn.model_selection import train_test_split\n",
    "X=df.drop('lwc_churn',axis=1)\n",
    "Y=df['lwc_churn']\n",
    "\n",
    "X_train,X_test, Y_train, Y_test=train_test_split(X,Y,test_size=0.2,random_state=42)"
   ]
  },
  {
   "cell_type": "code",
   "execution_count": null,
   "id": "368e5c47",
   "metadata": {},
   "outputs": [],
   "source": [
    "#Baseline model\n",
    "from sklearn.ensemble import RandomForestClassifier\n",
    "from sklearn.model_selection import GridSearchCV\n",
    "from sklearn.metrics import accuracy_score,f1_score,roc_auc_score\n",
    "clf=RandomForestClassifier(random_state=42,n_estimators=1000, max_depth=25, min_samples_split=20,class_weight='balanced') \n",
    "X_train=X_train.select_dtypes(include=np.number).fillna(0)\n",
    "X_test=X_test.select_dtypes(include=np.number).fillna(0)\n",
    "\n",
    "clf.fit(X_train,Y_train)\n",
    "train_preds=clf.predict(X_train)\n",
    "test_preds=clf.predict(X_test)\n",
    "\n",
    "print('Training Accuracy{:4f}'.format(accuracy_score(Y_train,train_preds)))\n",
    "print('Training f1{:4f}'.format(f1_score(Y_train,train_preds)))\n",
    "print('Training roc{:4f}'.format(roc_auc_score(Y_train,train_preds)))\n",
    "print('Testing Accuracy{:4f}'.format(accuracy_score(Y_test,test_preds)))\n",
    "print('Testing f1{:4f}'.format(f1_score(Y_test,test_preds)))\n",
    "print('Testing roc{:4f}'.format(roc_auc_score(Y_test,test_preds)))"
   ]
  },
  {
   "cell_type": "code",
   "execution_count": null,
   "id": "22d94738",
   "metadata": {},
   "outputs": [],
   "source": [
    "import matplotlib.pyplot as plt\n",
    "import scikitplot as skplt\n",
    "predicted_probas=clf.predict_proba(X_test)\n",
    "skplt.metrics.plot_cumulative_gain(y_test, predicted_probas)\n",
    "plt.show()"
   ]
  },
  {
   "cell_type": "code",
   "execution_count": null,
   "id": "4e576bcd",
   "metadata": {},
   "outputs": [],
   "source": [
    "X_train.shape"
   ]
  },
  {
   "cell_type": "code",
   "execution_count": null,
   "id": "f05226f8",
   "metadata": {},
   "outputs": [],
   "source": [
    "X_test.shape"
   ]
  },
  {
   "cell_type": "code",
   "execution_count": null,
   "id": "7f48e17c",
   "metadata": {},
   "outputs": [],
   "source": [
    "#+Feature Selection(Variance threshold, filter method, unsupervised)\n",
    "from sklearn.feature_selection import VarianceThreshold\n",
    "sel=VarianceThreshold(threshold=(0.15));\n",
    "sel=sel.fit(X_train)\n",
    "X_train_new1=sel.transform(X_train)\n",
    "X_train_new1.shape"
   ]
  },
  {
   "cell_type": "code",
   "execution_count": null,
   "id": "0c42e6fb",
   "metadata": {},
   "outputs": [],
   "source": [
    "X_test_new1=sel.transform(X_test)\n",
    "X_test_new1.shape"
   ]
  },
  {
   "cell_type": "code",
   "execution_count": null,
   "id": "a19b4bc7",
   "metadata": {},
   "outputs": [],
   "source": [
    "clf_1=RandomForestClassifier(random_state=42,n_estimators=1000, max_depth=25, min_samples_split=20,class_weight='balanced') \n",
    "X_train=X_train.select_dtypes(include=np.number).fillna(0)\n",
    "clf_1.fit(X_train_new1,Y_train)\n",
    "train_preds_1=clf_1.predict(X_train_new1)\n",
    "test_preds_1=clf_1.predict(X_test_new1)\n",
    "\n",
    "print('Training Accuracy{:4f}'.format(accuracy_score(Y_train,train_preds_1)))\n",
    "print('Training f1{:4f}'.format(f1_score(Y_train,train_preds_1)))\n",
    "print('Training roc{:4f}'.format(roc_auc_score(Y_train,train_preds_1)))\n",
    "print('Testing Accuracy{:4f}'.format(accuracy_score(Y_test,test_preds_1)))\n",
    "print('Testing f1{:4f}'.format(f1_score(Y_test,test_preds_1)))\n",
    "print('Testing roc{:4f}'.format(roc_auc_score(Y_test,test_preds_1)))"
   ]
  },
  {
   "cell_type": "code",
   "execution_count": null,
   "id": "b705274d",
   "metadata": {},
   "outputs": [],
   "source": [
    "#Hyperparameter tuning\n",
    "model= RandomForestClassifier(random_state=42)\n",
    "params = {\n",
    "    'max_depth':[20,25,30],\n",
    "    'min_samples_split':[10,20,30],\n",
    "    'n_estimators':[1000,1500,2000]\n",
    "    \n",
    "}\n",
    "\n",
    "search=GridSearchCV(model,params,scoring='f1',cv=3,verbose=1)\n",
    "search=search.fit(X_train_new1,Y_train)\n",
    "Print(search.best_params_,search.best_score_)"
   ]
  },
  {
   "cell_type": "code",
   "execution_count": null,
   "id": "bdf7066a",
   "metadata": {},
   "outputs": [],
   "source": [
    "#Changed the parameters to the recommended one\n",
    "clf_3=RandomForestClassifier(random_state=42,n_estimators=1000, max_depth=25, min_samples_split=20,class_weight='balanced') \n",
    "clf_3.fit(X_train_new1,Y_train)\n",
    "train_preds_3=clf_3.predict(X_train_new1)\n",
    "\n",
    "print('Training Accuracy{:4f}'.format(accuracy_score(Y_train,train_preds_3)))\n",
    "print('Training f1{:4f}'.format(f1_score(Y_train,train_preds_3)))\n",
    "print('Training roc{:4f}'.format(roc_auc_score(Y_train,train_preds_3)))"
   ]
  },
  {
   "cell_type": "code",
   "execution_count": null,
   "id": "d5fa5494",
   "metadata": {},
   "outputs": [],
   "source": []
  }
 ],
 "metadata": {
  "kernelspec": {
   "display_name": "Python 3",
   "language": "python",
   "name": "python3"
  },
  "language_info": {
   "codemirror_mode": {
    "name": "ipython",
    "version": 3
   },
   "file_extension": ".py",
   "mimetype": "text/x-python",
   "name": "python",
   "nbconvert_exporter": "python",
   "pygments_lexer": "ipython3",
   "version": "3.7.10"
  }
 },
 "nbformat": 4,
 "nbformat_minor": 5
}
